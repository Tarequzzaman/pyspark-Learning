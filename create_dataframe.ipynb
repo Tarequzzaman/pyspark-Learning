{
 "cells": [
  {
   "cell_type": "code",
   "execution_count": 1,
   "id": "constitutional-melissa",
   "metadata": {},
   "outputs": [],
   "source": [
    "from pyspark.sql import SparkSession"
   ]
  },
  {
   "cell_type": "code",
   "execution_count": 2,
   "id": "civilian-alcohol",
   "metadata": {},
   "outputs": [],
   "source": [
    "spark = SparkSession.builder.master('local[1]')\\\n",
    "                            .appName(\"SparkLearning\")\\\n",
    "                            .getOrCreate()"
   ]
  },
  {
   "cell_type": "markdown",
   "id": "wanted-garden",
   "metadata": {},
   "source": [
    "### List of Dictionary to spark Dataframe"
   ]
  },
  {
   "cell_type": "code",
   "execution_count": 3,
   "id": "narrative-tamil",
   "metadata": {},
   "outputs": [],
   "source": [
    "dic = [{'name':'Tareq','age':28}, {'name': 'Mariom', 'age': 25}]"
   ]
  },
  {
   "cell_type": "code",
   "execution_count": 4,
   "id": "passive-sixth",
   "metadata": {},
   "outputs": [],
   "source": [
    "df = spark.createDataFrame(dic)"
   ]
  },
  {
   "cell_type": "code",
   "execution_count": 5,
   "id": "buried-horizon",
   "metadata": {},
   "outputs": [
    {
     "name": "stdout",
     "output_type": "stream",
     "text": [
      "+---+------+\n",
      "|age|  name|\n",
      "+---+------+\n",
      "| 28| Tareq|\n",
      "| 25|Mariom|\n",
      "+---+------+\n",
      "\n"
     ]
    }
   ],
   "source": [
    "df.show()"
   ]
  },
  {
   "cell_type": "markdown",
   "id": "future-multiple",
   "metadata": {},
   "source": [
    "### List of Touple to Spark Dataframe "
   ]
  },
  {
   "cell_type": "code",
   "execution_count": 10,
   "id": "genetic-motor",
   "metadata": {},
   "outputs": [],
   "source": [
    "example_touples = [('Tareq', 28), ('Mariom', 25)]"
   ]
  },
  {
   "cell_type": "code",
   "execution_count": 11,
   "id": "heavy-hungary",
   "metadata": {},
   "outputs": [],
   "source": [
    "columns =['name', 'age']"
   ]
  },
  {
   "cell_type": "code",
   "execution_count": 12,
   "id": "northern-first",
   "metadata": {},
   "outputs": [],
   "source": [
    "dfFromData2 = spark.createDataFrame(example_touples).toDF(*columns)\n"
   ]
  },
  {
   "cell_type": "code",
   "execution_count": 13,
   "id": "respective-accordance",
   "metadata": {},
   "outputs": [
    {
     "name": "stdout",
     "output_type": "stream",
     "text": [
      "+------+---+\n",
      "|  name|age|\n",
      "+------+---+\n",
      "| Tareq| 28|\n",
      "|Mariom| 25|\n",
      "+------+---+\n",
      "\n"
     ]
    }
   ],
   "source": [
    "dfFromData2.show()"
   ]
  },
  {
   "cell_type": "code",
   "execution_count": null,
   "id": "reflected-absorption",
   "metadata": {},
   "outputs": [],
   "source": []
  }
 ],
 "metadata": {
  "kernelspec": {
   "display_name": "Python 3",
   "language": "python",
   "name": "python3"
  },
  "language_info": {
   "codemirror_mode": {
    "name": "ipython",
    "version": 3
   },
   "file_extension": ".py",
   "mimetype": "text/x-python",
   "name": "python",
   "nbconvert_exporter": "python",
   "pygments_lexer": "ipython3",
   "version": "3.7.13"
  }
 },
 "nbformat": 4,
 "nbformat_minor": 5
}
