{
 "cells": [
  {
   "cell_type": "code",
   "execution_count": 1,
   "id": "residential-richards",
   "metadata": {},
   "outputs": [],
   "source": [
    "from pyspark.sql import SparkSession"
   ]
  },
  {
   "cell_type": "code",
   "execution_count": 5,
   "id": "retired-church",
   "metadata": {},
   "outputs": [],
   "source": [
    "spark = SparkSession.builder.master('local[1]')\\\n",
    "                            .appName(\"SparkLearning\")\\\n",
    "                            .getOrCreate()"
   ]
  },
  {
   "cell_type": "code",
   "execution_count": 6,
   "id": "together-factor",
   "metadata": {},
   "outputs": [],
   "source": [
    "data = [(\"James\",\"\",\"Smith\",\"36636\",\"M\",60000),\n",
    "        (\"Michael\",\"Rose\",\"\",\"40288\",\"M\",70000),\n",
    "        (\"Robert\",\"\",\"Williams\",\"42114\",\"\",400000),\n",
    "        (\"Maria\",\"Anne\",\"Jones\",\"39192\",\"F\",500000),\n",
    "        (\"Jen\",\"Mary\",\"Brown\",\"\",\"F\",0)]"
   ]
  },
  {
   "cell_type": "code",
   "execution_count": 7,
   "id": "dietary-reserve",
   "metadata": {},
   "outputs": [
    {
     "data": {
      "text/plain": [
       "[('James', '', 'Smith', '36636', 'M', 60000),\n",
       " ('Michael', 'Rose', '', '40288', 'M', 70000),\n",
       " ('Robert', '', 'Williams', '42114', '', 400000),\n",
       " ('Maria', 'Anne', 'Jones', '39192', 'F', 500000),\n",
       " ('Jen', 'Mary', 'Brown', '', 'F', 0)]"
      ]
     },
     "execution_count": 7,
     "metadata": {},
     "output_type": "execute_result"
    }
   ],
   "source": [
    "data "
   ]
  },
  {
   "cell_type": "code",
   "execution_count": 8,
   "id": "parental-intent",
   "metadata": {},
   "outputs": [],
   "source": [
    "columns = [\"first_name\",\"middle_name\",\"last_name\",\"dob\",\"gender\",\"salary\"]\n"
   ]
  },
  {
   "cell_type": "code",
   "execution_count": 9,
   "id": "monthly-dance",
   "metadata": {},
   "outputs": [],
   "source": [
    "pysparkDF = spark.createDataFrame(data = data, schema = columns)\n"
   ]
  },
  {
   "cell_type": "code",
   "execution_count": null,
   "id": "diagnostic-jacob",
   "metadata": {},
   "outputs": [],
   "source": [
    "pysparkDF.show()"
   ]
  },
  {
   "cell_type": "code",
   "execution_count": null,
   "id": "legal-samoa",
   "metadata": {},
   "outputs": [],
   "source": []
  }
 ],
 "metadata": {
  "kernelspec": {
   "display_name": "Python 3",
   "language": "python",
   "name": "python3"
  },
  "language_info": {
   "codemirror_mode": {
    "name": "ipython",
    "version": 3
   },
   "file_extension": ".py",
   "mimetype": "text/x-python",
   "name": "python",
   "nbconvert_exporter": "python",
   "pygments_lexer": "ipython3",
   "version": "3.7.13"
  }
 },
 "nbformat": 4,
 "nbformat_minor": 5
}
