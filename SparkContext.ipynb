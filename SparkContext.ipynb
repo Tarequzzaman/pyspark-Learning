{
 "cells": [
  {
   "cell_type": "markdown",
   "id": "ecological-mobility",
   "metadata": {},
   "source": [
    "`pyspark.SparkContext` is an entry point to the `PySpark` functionality that is used to communicate with the cluster and to create an RDD, accumulator, and broadcast variables<br>\n",
    "![MarineGEO circle logo](https://i0.wp.com/sparkbyexamples.com/wp-content/uploads/2022/05/image04.png?w=613&ssl=1 \"MarineGEO logo\")\n",
    "<br>\n",
    "\n",
    "The Spark driver program creates and uses `SparkContext` to connect to the cluster manager to submit `PySpark` jobs, and know what resource manager (YARN, Mesos, or Standalone) to communicate to. It is the heart of the `PySpark` application.\n",
    "\n"
   ]
  },
  {
   "cell_type": "markdown",
   "id": "fallen-bibliography",
   "metadata": {},
   "source": [
    "At any given time only one `SparkContext` instance should be active per JVM. In case you want to create another you should stop existing `SparkContext` using `stop()` before creating a new one."
   ]
  },
  {
   "cell_type": "code",
   "execution_count": 1,
   "id": "coral-venture",
   "metadata": {},
   "outputs": [
    {
     "name": "stdout",
     "output_type": "stream",
     "text": [
      "<SparkContext master=local[1] appName=SparkByExamples.com>\n",
      "Spark App Name : SparkByExamples.com\n"
     ]
    }
   ],
   "source": [
    "from pyspark.sql import SparkSession\n",
    "spark = SparkSession.builder.master(\"local[1]\") \\\n",
    "                    .appName('SparkByExamples.com') \\\n",
    "                    .getOrCreate()\n",
    "print(spark.sparkContext)\n",
    "print(\"Spark App Name : \"+ spark.sparkContext.appName)"
   ]
  },
  {
   "cell_type": "code",
   "execution_count": 2,
   "id": "about-cooking",
   "metadata": {},
   "outputs": [],
   "source": [
    "spark.sparkContext.stop()\n"
   ]
  },
  {
   "cell_type": "code",
   "execution_count": 3,
   "id": "ahead-police",
   "metadata": {},
   "outputs": [],
   "source": [
    "from pyspark.sql import SparkSession\n"
   ]
  },
  {
   "cell_type": "code",
   "execution_count": 4,
   "id": "polyphonic-feature",
   "metadata": {},
   "outputs": [],
   "source": [
    "spark = SparkSession.builder.appName('SparkByExamples.com').getOrCreate()"
   ]
  },
  {
   "cell_type": "code",
   "execution_count": 5,
   "id": "eight-moses",
   "metadata": {},
   "outputs": [
    {
     "data": {
      "text/html": [
       "\n",
       "            <div>\n",
       "                <p><b>SparkSession - in-memory</b></p>\n",
       "                \n",
       "        <div>\n",
       "            <p><b>SparkContext</b></p>\n",
       "\n",
       "            <p><a href=\"http://192.168.31.212:4042\">Spark UI</a></p>\n",
       "\n",
       "            <dl>\n",
       "              <dt>Version</dt>\n",
       "                <dd><code>v3.3.1</code></dd>\n",
       "              <dt>Master</dt>\n",
       "                <dd><code>local[1]</code></dd>\n",
       "              <dt>AppName</dt>\n",
       "                <dd><code>SparkByExamples.com</code></dd>\n",
       "            </dl>\n",
       "        </div>\n",
       "        \n",
       "            </div>\n",
       "        "
      ],
      "text/plain": [
       "<pyspark.sql.session.SparkSession at 0x106eb5c90>"
      ]
     },
     "execution_count": 5,
     "metadata": {},
     "output_type": "execute_result"
    }
   ],
   "source": [
    "spark"
   ]
  },
  {
   "cell_type": "code",
   "execution_count": null,
   "id": "operating-snapshot",
   "metadata": {},
   "outputs": [],
   "source": []
  }
 ],
 "metadata": {
  "kernelspec": {
   "display_name": "Python 3",
   "language": "python",
   "name": "python3"
  },
  "language_info": {
   "codemirror_mode": {
    "name": "ipython",
    "version": 3
   },
   "file_extension": ".py",
   "mimetype": "text/x-python",
   "name": "python",
   "nbconvert_exporter": "python",
   "pygments_lexer": "ipython3",
   "version": "3.7.13"
  }
 },
 "nbformat": 4,
 "nbformat_minor": 5
}
